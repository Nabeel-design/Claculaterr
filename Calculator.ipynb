{
 "cells": [
  {
   "cell_type": "code",
   "execution_count": 9,
   "id": "c53af4cc",
   "metadata": {},
   "outputs": [],
   "source": [
    "from tkinter import *\n",
    "from tkinter import ttk"
   ]
  },
  {
   "cell_type": "code",
   "execution_count": 45,
   "id": "ea079951",
   "metadata": {},
   "outputs": [],
   "source": [
    "root =Tk()\n",
    "root.title('Calculator')\n",
    "En = ttk.Entry(root , font='arial 20')\n",
    "\n",
    "def insert(text):\n",
    "    if text!= '=':\n",
    "        En.insert('end' , text)\n",
    "    else:\n",
    "        operation = eval(En.get())\n",
    "        En.delete(0 ,'end')\n",
    "        En.insert(0,'{}'.format(operation))\n",
    "    \n",
    "def button(text ,clmn , row):\n",
    "    ttk.Button(root , text =text ,command=lambda:insert(text)).grid(column=clmn ,row=row , ipadx=1 , ipady=6)\n",
    "Entry.grid(En ,column=0 ,row=0 , columnspan=3 , ipadx=4 , ipady=8)\n",
    "button('1',0,1)\n",
    "button('2',1,1)\n",
    "button('3',2,1)\n",
    "button('4',0,2)\n",
    "button('5',1,2)\n",
    "button('6',2,2)\n",
    "button('7',0,3)\n",
    "button('8',1,3)\n",
    "button('9',2,3)\n",
    "button('+',0,4)\n",
    "button('-',1,4)\n",
    "button('*',2,4)\n",
    "button('/',0,5)\n",
    "button('.',1,5)\n",
    "button('=',2,5)\n",
    "button('0',3,5)\n",
    "\n",
    "root.mainloop()"
   ]
  },
  {
   "cell_type": "code",
   "execution_count": null,
   "id": "22d9d047",
   "metadata": {},
   "outputs": [],
   "source": []
  },
  {
   "cell_type": "code",
   "execution_count": null,
   "id": "506d32f0",
   "metadata": {},
   "outputs": [],
   "source": []
  }
 ],
 "metadata": {
  "kernelspec": {
   "display_name": "Python 3",
   "language": "python",
   "name": "python3"
  },
  "language_info": {
   "codemirror_mode": {
    "name": "ipython",
    "version": 3
   },
   "file_extension": ".py",
   "mimetype": "text/x-python",
   "name": "python",
   "nbconvert_exporter": "python",
   "pygments_lexer": "ipython3",
   "version": "3.8.8"
  }
 },
 "nbformat": 4,
 "nbformat_minor": 5
}
